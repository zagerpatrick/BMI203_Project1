{
 "cells": [
  {
   "cell_type": "markdown",
   "metadata": {},
   "source": [
    "# Part 1"
   ]
  },
  {
   "cell_type": "markdown",
   "metadata": {},
   "source": [
    "## Part 1: Question 1"
   ]
  },
  {
   "cell_type": "markdown",
   "metadata": {},
   "source": [
    "a) The parameters required for the execution of both algorithms are: 1. To nucleotide or amino acid sequences to align. 2. A simularity matrix to score individual pairwise alignments. 3. A gap opening cost and a gap extension cost in the affine gap case.\n",
    "\n",
    "NW global alignment traceback begins in the lower right hand corner of the traceback matrix and contiues until the upper left hand corner is reached (if your algorithm considers overhangs as gaps). The first row and column of the traceback matrix are subject to the gap penalty. Alignment scores in NW can be zero. Multiple equivalent score global alignments may be achieved.\n",
    "\n",
    "SW local alignment traceback begins at the indices of the maxium score/s in the score matrix. Traceback occurs until a score value of zero is reached. Negative scoring values generated in the alignment procedure are set to zero. The first row and column of the traceback matrix are set to zero. Multiple equivalent score local alignments may be achieved.\n",
    "\n",
    "b) The primary quantities return are the alignmen score/s and a visual representation of the alignment/s. A score matrix and a traceback matrix are also generated and may be returned.\n",
    "\n",
    "c) The runtime compexity for both algorithms are O(mn)"
   ]
  },
  {
   "cell_type": "markdown",
   "metadata": {},
   "source": [
    "## Part 1: Question 2"
   ]
  },
  {
   "cell_type": "markdown",
   "metadata": {},
   "source": [
    "Most functionality between the algorithms are identical, but there are a few key differences.\n",
    "\n",
    "1. The first row and column are initialized with the gap penalty in NW, while the first row and column are filled with zeros in SW.\n",
    "\n",
    "2. When generating the score matrix, values in SW are set to zero if they are negative, while values in NW are allowed to be negative.\n",
    "\n",
    "3. Lastly, NW traceback begins at the bottom right hand corner of the traceback matrix until the top left hand corner matrix is reached. SW traceback begins at the indices of the maxium score/s in the score matrix. Traceback occurs until a score value of zero is reached."
   ]
  },
  {
   "cell_type": "markdown",
   "metadata": {},
   "source": [
    "## Part 1: Question 3"
   ]
  },
  {
   "cell_type": "markdown",
   "metadata": {},
   "source": [
    "Affine gap implementation requires you to consider the history of the scoring procedure, whether a match, a gap in sequence 1, or a gap in sequence 2 was previously selected. This is required as you need to know if a gap is being opened or extended in order to apply the appropriate penalty. This is not required when a linear gap cost is implemented."
   ]
  },
  {
   "cell_type": "markdown",
   "metadata": {},
   "source": [
    "## Part 1: Question 4"
   ]
  },
  {
   "cell_type": "markdown",
   "metadata": {},
   "source": [
    "I utilized Sphinx."
   ]
  },
  {
   "cell_type": "markdown",
   "metadata": {},
   "source": [
    "# Part 2"
   ]
  },
  {
   "cell_type": "code",
   "execution_count": 38,
   "metadata": {},
   "outputs": [],
   "source": [
    "# Imports\n",
    "\n",
    "import os\n",
    "import pickle\n",
    "import operator\n",
    "import numpy as np\n",
    "import matplotlib.pyplot as plt\n",
    "import seaborn as sns\n",
    "from sklearn.metrics import confusion_matrix, roc_curve, auc\n",
    "from notebook_util import paired_file_reader, align_score_gen, pred_gen, \\\n",
    "                          pr_calc, save_obj, load_obj"
   ]
  },
  {
   "cell_type": "code",
   "execution_count": 25,
   "metadata": {},
   "outputs": [],
   "source": [
    "# Set data path\n",
    "\n",
    "base_path = os.getcwd() + '/'\n",
    "scoring_path = base_path + 'scoring_matrices/'\n",
    "sequence_path = base_path + 'sequences/'"
   ]
  },
  {
   "cell_type": "markdown",
   "metadata": {},
   "source": [
    "## Part 2: Question 1"
   ]
  },
  {
   "cell_type": "code",
   "execution_count": 26,
   "metadata": {},
   "outputs": [],
   "source": [
    "# Generate lists of pair filenames\n",
    "\n",
    "pos_pairs = paired_file_reader(scoring_path + 'Pospairs.txt')\n",
    "neg_pairs = paired_file_reader(scoring_path + 'Negpairs.txt')"
   ]
  },
  {
   "cell_type": "code",
   "execution_count": 27,
   "metadata": {},
   "outputs": [],
   "source": [
    "# Set alignment parameters\n",
    "\n",
    "gap = 11, 3\n",
    "sim_matrix = scoring_path + 'BLOSUM50.mat'"
   ]
  },
  {
   "cell_type": "code",
   "execution_count": 28,
   "metadata": {},
   "outputs": [],
   "source": [
    "# Generate local alignment scores\n",
    "\n",
    "pos_scores = align_score_gen(pos_pairs, sim_matrix, gap, 'sw', base_path)\n",
    "neg_scores = align_score_gen(neg_pairs, sim_matrix, gap, 'sw', base_path)"
   ]
  },
  {
   "cell_type": "code",
   "execution_count": 13,
   "metadata": {},
   "outputs": [
    {
     "data": {
      "image/png": "[encoded data removed]",
      "text/plain": [
       "<Figure size 432x288 with 1 Axes>"
      ]
     },
     "metadata": {
      "needs_background": "light"
     },
     "output_type": "display_data"
    }
   ],
   "source": [
    "# Plot histogram of alignment scores\n",
    "\n",
    "plt.hist([pos_scores, neg_scores], bins=30, \n",
    "         label=['Positive Pairs', 'Negative Pairs'])\n",
    "plt.legend(loc='upper right')\n",
    "plt.title('Local Alignment Score Distribution')\n",
    "plt.xlabel('Score')\n",
    "plt.ylabel('Count')\n",
    "plt.show()"
   ]
  },
  {
   "cell_type": "markdown",
   "metadata": {},
   "source": [
    "How would you describe this distribution?"
   ]
  },
  {
   "cell_type": "markdown",
   "metadata": {},
   "source": [
    "## Part 2: Question 2"
   ]
  },
  {
   "cell_type": "code",
   "execution_count": 14,
   "metadata": {},
   "outputs": [
    {
     "name": "stdout",
     "output_type": "stream",
     "text": [
      "Threshold Value = 48.44\n"
     ]
    }
   ],
   "source": [
    "# Calculate the threshold of the confustion matric\n",
    "\n",
    "all_scores = pos_scores + neg_scores\n",
    "cm_thresh = np.mean(all_scores)\n",
    "print(f'Threshold Value = {cm_thresh:.2f}')"
   ]
  },
  {
   "cell_type": "code",
   "execution_count": 15,
   "metadata": {},
   "outputs": [
    {
     "data": {
      "image/png": "[encoded data removed]",
      "text/plain": [
       "<Figure size 288x216 with 2 Axes>"
      ]
     },
     "metadata": {
      "needs_background": "light"
     },
     "output_type": "display_data"
    }
   ],
   "source": [
    "# Determine predicted and actual classifications \n",
    "# and caclulate the confusion matrix\n",
    "\n",
    "# Generate predicted classification\n",
    "pred = []\n",
    "for value in all_scores:\n",
    "    if value >= cm_thresh:\n",
    "        pred.append(1)\n",
    "    else:\n",
    "        pred.append(0)\n",
    "\n",
    "# Generate actual classification\n",
    "actual = [1]*len(pos_scores) + [0]*len(neg_scores)\n",
    "\n",
    "# Calculate confusion matrix\n",
    "cm = confusion_matrix(actual, pred)\n",
    "tn, fp, fn, tp = cm.ravel()\n",
    "plt.figure(figsize=[4,3])\n",
    "sns.heatmap(cm, annot=True, cmap='Blues', annot_kws={\"size\": 16})\n",
    "plt.title('Alignment Confusion Matrix')\n",
    "plt.show()"
   ]
  },
  {
   "cell_type": "markdown",
   "metadata": {},
   "source": [
    "What is the threshold value, and how does the confusion matrix suggest this algorithm performed?"
   ]
  },
  {
   "cell_type": "markdown",
   "metadata": {},
   "source": [
    "## Part 2: Question 3"
   ]
  },
  {
   "cell_type": "code",
   "execution_count": 16,
   "metadata": {},
   "outputs": [],
   "source": [
    "# Calculate predictions over a range of thresholds\n",
    "\n",
    "pred_list = pred_gen(all_scores)"
   ]
  },
  {
   "cell_type": "code",
   "execution_count": 17,
   "metadata": {},
   "outputs": [],
   "source": [
    "# Calculate true positve and false positive rates\n",
    "\n",
    "tpr, fpr = pr_calc(actual, pred_list)"
   ]
  },
  {
   "cell_type": "code",
   "execution_count": 18,
   "metadata": {},
   "outputs": [
    {
     "data": {
      "text/plain": [
       "Text(0, 0.5, 'True Positive Rate')"
      ]
     },
     "execution_count": 18,
     "metadata": {},
     "output_type": "execute_result"
    },
    {
     "data": {
      "image/png": "[encoded data removed]",
      "text/plain": [
       "<Figure size 360x360 with 1 Axes>"
      ]
     },
     "metadata": {
      "needs_background": "light"
     },
     "output_type": "display_data"
    }
   ],
   "source": [
    "# Plot the ROC curve\n",
    "\n",
    "plt.figure(figsize=[5,5])\n",
    "plt.plot(fpr, tpr, color='C0', lw=2)\n",
    "plt.plot([0, 1], [0, 1], color='C7', lw=2, linestyle=':')\n",
    "plt.title('Local Alignment ROC')\n",
    "plt.xlabel('False Positive Rate')\n",
    "plt.ylabel('True Positive Rate')"
   ]
  },
  {
   "cell_type": "markdown",
   "metadata": {},
   "source": [
    "## Part 2: Question 4"
   ]
  },
  {
   "cell_type": "code",
   "execution_count": 19,
   "metadata": {},
   "outputs": [
    {
     "name": "stdout",
     "output_type": "stream",
     "text": [
      "AUROC = 0.773\n"
     ]
    }
   ],
   "source": [
    "# Calculate area under the ROC curve\n",
    "\n",
    "print(f'AUROC = {auc(fpr, tpr):.3f}')"
   ]
  },
  {
   "cell_type": "markdown",
   "metadata": {},
   "source": [
    "What does this valueindicate about the performance of this algorithm? Can you confidently assessthe performance of this algorithm with this value alone? Why or why not?"
   ]
  },
  {
   "cell_type": "markdown",
   "metadata": {},
   "source": [
    "## Part 2: Question 5"
   ]
  },
  {
   "cell_type": "code",
   "execution_count": null,
   "metadata": {},
   "outputs": [],
   "source": [
    "# Generate local alignment scores over gap opening and gap extension \n",
    "# penalties ranging from 1-20 and 1-5 respectively\n",
    "\n",
    "gap = 0, 0\n",
    "sim_matrix = scoring_path + 'BLOSUM62.mat'\n",
    "test_scores_dict = {}\n",
    "\n",
    "for i in range(1,2):\n",
    "    for j in range(1,3):\n",
    "        gap = i, j\n",
    "        \n",
    "        pos_scores = align_score_gen(pos_pairs, sim_matrix, \n",
    "                                     gap, 'sw', base_path)\n",
    "        neg_scores = align_score_gen(neg_pairs, sim_matrix, \n",
    "                                     gap, 'sw', base_path)\n",
    "        \n",
    "        test_scores_dict[i,j] = pos_scores + neg_scores\n",
    "\n",
    "# save_obj(all_scores_dict, 'test_no_use')"
   ]
  },
  {
   "cell_type": "code",
   "execution_count": 20,
   "metadata": {},
   "outputs": [],
   "source": [
    "all_scores_dict = load_obj('all_scores_dict')"
   ]
  },
  {
   "cell_type": "code",
   "execution_count": 21,
   "metadata": {},
   "outputs": [],
   "source": [
    "# Genrate dict of the predicted classes from the score dict\n",
    "\n",
    "pred_dict = {}\n",
    "\n",
    "for i in range(1,21):\n",
    "    for j in range(1,6):\n",
    "        pred_list = pred_gen(all_scores_dict[i,j])\n",
    "        pred_dict[i,j] = pred_list"
   ]
  },
  {
   "cell_type": "code",
   "execution_count": 22,
   "metadata": {},
   "outputs": [],
   "source": [
    "# Generate ROAUC scores for all predictions\n",
    "\n",
    "auc_dict = {}\n",
    "\n",
    "for i in range(1,21):\n",
    "    for j in range(1,6):\n",
    "        tpr, fpr = pr_calc(actual, pred_dict[i,j])\n",
    "        auc_dict[i,j] = auc(fpr, tpr)"
   ]
  },
  {
   "cell_type": "code",
   "execution_count": 23,
   "metadata": {},
   "outputs": [
    {
     "name": "stdout",
     "output_type": "stream",
     "text": [
      "Gap Opening = 4 Gap Extension = 4\n"
     ]
    }
   ],
   "source": [
    "# Identify gap penality resculting in highest the AUROC\n",
    "\n",
    "best_gap = max(auc_dict.items(), key=operator.itemgetter(1))[0]\n",
    "print(f'Gap Opening = {best_gap[0]:.0f} Gap Extension = {best_gap[1]:.0f}')"
   ]
  },
  {
   "cell_type": "markdown",
   "metadata": {},
   "source": [
    "What does this pair of values suggest about the evolution of these sequences and the likelihood of insertions / deletions?"
   ]
  },
  {
   "cell_type": "markdown",
   "metadata": {},
   "source": [
    "## Part 2: Question 6"
   ]
  },
  {
   "cell_type": "code",
   "execution_count": null,
   "metadata": {},
   "outputs": [],
   "source": [
    "# Calulate global alignment ROC and AUC values for all matrices\n",
    "\n",
    "gap = best_gap\n",
    "name_list = ['BLOSUM50', 'BLOSUM62', 'PAM100', 'PAM250']\n",
    "global_roc_dict = {}\n",
    "\n",
    "for name in name_list:\n",
    "        matrix = scoring_path + name + '.mat'\n",
    "        pos_scores = align_score_gen(pos_pairs, matrix, \n",
    "                                     gap, 'nw', base_path)\n",
    "        neg_scores = align_score_gen(neg_pairs, matrix, \n",
    "                                     gap, 'nw', base_path)\n",
    "        \n",
    "        pred_list = pred_gen(pos_scores + neg_scores)\n",
    "        \n",
    "        tpr, fpr = pr_calc(actual, pred_list)\n",
    "        global_roc_dict[name] = fpr, tpr\n",
    "        global_roc_dict[name + 'AUC'] = auc(fpr, tpr)"
   ]
  },
  {
   "cell_type": "code",
   "execution_count": null,
   "metadata": {},
   "outputs": [],
   "source": [
    "# Plot the ROC curves and AUC values\n",
    "\n",
    "for name in name_list:\n",
    "    plt.figure(figsize=[5,5])\n",
    "    plt.plot(global_roc_dict[name][0], global_roc_dict[name][1], \n",
    "             color='C0', lw=2, label=f'AUROC curve area = %0.3f'  % global_roc_dict[name + 'AUC'])\n",
    "    plt.plot([0, 1], [0, 1], color='C7', lw=2, linestyle=':')\n",
    "    plt.title(name + ' Global Alignment ROC')\n",
    "    plt.xlabel('False Positive Rate')\n",
    "    plt.ylabel('True Positive Rate')\n",
    "    plt.legend(loc=\"lower right\")"
   ]
  },
  {
   "cell_type": "markdown",
   "metadata": {},
   "source": [
    "## Part 2: Question 7"
   ]
  },
  {
   "cell_type": "code",
   "execution_count": null,
   "metadata": {},
   "outputs": [],
   "source": [
    "# Calulate local alignment ROC and AUC values for all matrices\n",
    "\n",
    "gap = best_gap\n",
    "name_list = ['BLOSUM50', 'BLOSUM62', 'PAM100', 'PAM250']\n",
    "local_roc_dict = {}\n",
    "\n",
    "for name in name_list:\n",
    "        matrix = scoring_path + name + '.mat'\n",
    "        pos_scores = align_score_gen(pos_pairs, matrix, \n",
    "                                     gap, 'sw', base_path)\n",
    "        neg_scores = align_score_gen(neg_pairs, matrix, \n",
    "                                     gap, 'sw', base_path)\n",
    "        \n",
    "        pred_list = pred_gen(pos_scores + neg_scores)\n",
    "        \n",
    "        tpr, fpr = pr_calc(actual, pred_list)\n",
    "        local_roc_dict[name] = fpr, tpr\n",
    "        local_roc_dict[name + 'AUC'] = auc(fpr, tpr)"
   ]
  },
  {
   "cell_type": "code",
   "execution_count": null,
   "metadata": {},
   "outputs": [],
   "source": [
    "# Plot the ROC curves and AUC values\n",
    "\n",
    "for name in name_list:\n",
    "    plt.figure(figsize=[5,5])\n",
    "    plt.plot(local_roc_dict[name][0], local_roc_dict[name][1], \n",
    "             color='C0', lw=2, label=f'AUROC = %0.3f'  % local_roc_dict[name + 'AUC'])\n",
    "    plt.plot([0, 1], [0, 1], color='C7', lw=2, linestyle=':')\n",
    "    plt.title(name + ' Local Alignment ROC')\n",
    "    plt.xlabel('False Positive Rate')\n",
    "    plt.ylabel('True Positive Rate')\n",
    "    plt.legend(loc=\"lower right\")"
   ]
  },
  {
   "cell_type": "markdown",
   "metadata": {},
   "source": [
    "Of all these algorithms, which performs the best as measured by AUROC?"
   ]
  },
  {
   "cell_type": "markdown",
   "metadata": {},
   "source": [
    "## Part 2: Question 8"
   ]
  },
  {
   "cell_type": "markdown",
   "metadata": {},
   "source": [
    "Comment qualitatively on the best algorithm. What does the best performingalgorithm indicate about the origin of these sequences?"
   ]
  },
  {
   "cell_type": "code",
   "execution_count": null,
   "metadata": {},
   "outputs": [],
   "source": []
  }
 ],
 "metadata": {
  "kernelspec": {
   "display_name": "Python 3",
   "language": "python",
   "name": "python3"
  },
  "language_info": {
   "codemirror_mode": {
    "name": "ipython",
    "version": 3
   },
   "file_extension": ".py",
   "mimetype": "text/x-python",
   "name": "python",
   "nbconvert_exporter": "python",
   "pygments_lexer": "ipython3",
   "version": "3.8.5"
  }
 },
 "nbformat": 4,
 "nbformat_minor": 4
}
