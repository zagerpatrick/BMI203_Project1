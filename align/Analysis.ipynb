{
 "cells": [
  {
   "cell_type": "code",
   "execution_count": 57,
   "metadata": {},
   "outputs": [],
   "source": [
    "import sys\n",
    "sys.path.insert(1,'/Users/patrick/Projects/BMI-203/Project1')\n",
    "\n",
    "# Imports\n",
    "import align.algs\n",
    "from align import algs\n",
    "import numpy as np\n",
    "import matplotlib.pyplot as plt\n",
    "from sklearn.metrics import confusion_matrix"
   ]
  },
  {
   "cell_type": "code",
   "execution_count": 12,
   "metadata": {},
   "outputs": [],
   "source": [
    "# Set data path\n",
    "\n",
    "base_path = '/Users/patrick/Projects/BMI-203/Project1/'\n",
    "scoring_path = base_path + 'scoring_matrices/'\n",
    "sequence_path = base_path + 'sequences/'"
   ]
  },
  {
   "cell_type": "markdown",
   "metadata": {},
   "source": [
    "Part 2: Question 1"
   ]
  },
  {
   "cell_type": "code",
   "execution_count": 13,
   "metadata": {},
   "outputs": [],
   "source": [
    "# Functions\n",
    "\n",
    "def paired_file_reader(file):\n",
    "    pair = []\n",
    "    amino = []\n",
    "    with open(file) as file:\n",
    "        for n, line in enumerate(file):\n",
    "            pair = []\n",
    "            for name in line.split():\n",
    "                pair.append(name)\n",
    "            amino.append(pair)\n",
    "    return amino"
   ]
  },
  {
   "cell_type": "code",
   "execution_count": 28,
   "metadata": {},
   "outputs": [],
   "source": [
    "# Generate lists of pair filenames\n",
    "\n",
    "pos_pairs = paired_file_reader(scoring_path + 'Pospairs.txt')\n",
    "neg_pairs = paired_file_reader(scoring_path + 'Negpairs.txt')"
   ]
  },
  {
   "cell_type": "code",
   "execution_count": 29,
   "metadata": {},
   "outputs": [],
   "source": [
    "# This file has 'x' values in it for some reason, \n",
    "# so let's throw it out for now.\n",
    "neg_pairs.remove(neg_pairs[32])"
   ]
  },
  {
   "cell_type": "code",
   "execution_count": 30,
   "metadata": {},
   "outputs": [],
   "source": [
    "# Set alignment parameters\n",
    "\n",
    "gap = 11, 3\n",
    "sim_matrix = scoring_path + 'BLOSUM50.mat'"
   ]
  },
  {
   "cell_type": "code",
   "execution_count": 16,
   "metadata": {},
   "outputs": [],
   "source": [
    "# Generate positive alignment scores\n",
    "\n",
    "pos_scores = []\n",
    "for seq_a, seq_b in pos_pairs:\n",
    "    sw = algs.SmithWaterman(sim_matrix, gap)\n",
    "    sw.align(base_path + seq_a, base_path + seq_b)\n",
    "    pos_scores.append(sw.score_[0])"
   ]
  },
  {
   "cell_type": "code",
   "execution_count": 32,
   "metadata": {},
   "outputs": [],
   "source": [
    "# Generate negative alignment scores\n",
    "\n",
    "neg_scores = []\n",
    "for seq_a, seq_b in neg_pairs:\n",
    "    sw = algs.SmithWaterman(sim_matrix, gap)\n",
    "    sw.align(base_path + seq_a, base_path + seq_b)\n",
    "    neg_scores.append(sw.score_[0])"
   ]
  },
  {
   "cell_type": "code",
   "execution_count": 52,
   "metadata": {},
   "outputs": [
    {
     "data": {
      "image/png": "[encoded data removed]",
      "text/plain": [
       "<Figure size 432x288 with 1 Axes>"
      ]
     },
     "metadata": {
      "needs_background": "light"
     },
     "output_type": "display_data"
    }
   ],
   "source": [
    "# Plot histogram of alignment scores\n",
    "\n",
    "plt.hist([pos_scores, neg_scores], bins=30, \n",
    "         label=['Positive Pairs', 'Negative Pairs'])\n",
    "plt.legend(loc='upper right')\n",
    "plt.show()"
   ]
  },
  {
   "cell_type": "markdown",
   "metadata": {},
   "source": [
    "Part 2: Question 2"
   ]
  },
  {
   "cell_type": "code",
   "execution_count": 74,
   "metadata": {},
   "outputs": [
    {
     "name": "stdout",
     "output_type": "stream",
     "text": [
      "Threshold Value = 48.58\n"
     ]
    }
   ],
   "source": [
    "# Calculate the threshold of the confustion matric\n",
    "\n",
    "all_scores = pos_scores + neg_scores\n",
    "cm_thresh = np.mean(all_scores)\n",
    "print(f'Threshold Value = {cm_thresh:.2f}')"
   ]
  },
  {
   "cell_type": "code",
   "execution_count": 60,
   "metadata": {},
   "outputs": [],
   "source": [
    "# Generate predicted classification\n",
    "\n",
    "pred = []\n",
    "for value in all_scores:\n",
    "    if value >= cm_thresh:\n",
    "        pred.append(1)\n",
    "    else:\n",
    "        pred.append(0)"
   ]
  },
  {
   "cell_type": "code",
   "execution_count": 62,
   "metadata": {},
   "outputs": [],
   "source": [
    "# Generate predicted classification\n",
    "\n",
    "actual = [1]*len(pos_scores) + [0]*len(neg_scores)"
   ]
  },
  {
   "cell_type": "code",
   "execution_count": 64,
   "metadata": {},
   "outputs": [
    {
     "data": {
      "text/plain": [
       "array([[41,  8],\n",
       "       [26, 24]])"
      ]
     },
     "execution_count": 64,
     "metadata": {},
     "output_type": "execute_result"
    }
   ],
   "source": [
    "# Calculate confusion matrix\n",
    "\n",
    "confusion_matrix(actual, pred)"
   ]
  },
  {
   "cell_type": "markdown",
   "metadata": {},
   "source": []
  },
  {
   "cell_type": "markdown",
   "metadata": {},
   "source": [
    "Part 2: Question 3"
   ]
  },
  {
   "cell_type": "code",
   "execution_count": null,
   "metadata": {},
   "outputs": [],
   "source": []
  }
 ],
 "metadata": {
  "kernelspec": {
   "display_name": "Python 3",
   "language": "python",
   "name": "python3"
  },
  "language_info": {
   "codemirror_mode": {
    "name": "ipython",
    "version": 3
   },
   "file_extension": ".py",
   "mimetype": "text/x-python",
   "name": "python",
   "nbconvert_exporter": "python",
   "pygments_lexer": "ipython3",
   "version": "3.8.5"
  }
 },
 "nbformat": 4,
 "nbformat_minor": 4
}
